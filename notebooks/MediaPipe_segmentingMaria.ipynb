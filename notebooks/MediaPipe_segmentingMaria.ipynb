{
 "cells": [
  {
   "cell_type": "code",
   "execution_count": 3,
   "metadata": {},
   "outputs": [],
   "source": [
    "import os\n",
    "import cv2\n",
    "import mediapipe as mp\n",
    "import pandas as pd\n",
    "import numpy as np\n",
    "mp_drawing = mp.solutions.drawing_utils\n",
    "mp_drawing_styles = mp.solutions.drawing_styles\n",
    "mp_pose = mp.solutions.pose\n",
    "\n",
    "def Euclidean(x,y):\n",
    "    return np.sqrt((y[0]-x[0])**2 + (y[1] - x[1])**2)"
   ]
  },
  {
   "cell_type": "code",
   "execution_count": 4,
   "metadata": {},
   "outputs": [],
   "source": [
    "# For webcam input:\n",
    "from ast import ListComp\n",
    "\n",
    "calcThis = False\n",
    "if calcThis:\n",
    "  datadirectory = 'data'\n",
    "  PoseData = list()\n",
    "  # cap = cv2.VideoCapture(0)\n",
    "  cap = cv2.VideoCapture(os.path.join('..', datadirectory, 'MariaDancingSequence.webm'))\n",
    "  i = 0\n",
    "  imageName = \"MariaMovementSequence_xyz_28Sept\"\n",
    "  # MaxRecordings = 10\n",
    "  pose = mp_pose.Pose(\n",
    "      min_detection_confidence=0.5,\n",
    "      min_tracking_confidence=0.5)  # as pose:\n",
    "\n",
    "  while cap.isOpened():\n",
    "    \n",
    "    i += 1\n",
    "    \n",
    "    success, image = cap.read()\n",
    "    if not success:\n",
    "      print(\"Ignoring empty camera frame.\")\n",
    "      # If loading a video, use 'break' instead of 'continue'.\n",
    "      break\n",
    "\n",
    "    # Draw the pose annotation on the image.\n",
    "    image.flags.writeable = True\n",
    "    image = cv2.cvtColor(image, cv2.COLOR_RGB2BGR)\n",
    "    results = pose.process(image)\n",
    "    mp_drawing.draw_landmarks(\n",
    "        image,\n",
    "        results.pose_landmarks,\n",
    "        mp_pose.POSE_CONNECTIONS,\n",
    "        landmark_drawing_spec=mp_drawing_styles.get_default_pose_landmarks_style())\n",
    "    \n",
    "    newData = {coord + str(j):lm.__getattribute__(coord)  for j, lm in enumerate(results.pose_landmarks.landmark) for coord in [\"x\", \"y\", \"z\"]}\n",
    "    PoseData.append(newData)\n",
    "\n",
    "    # Flip the image horizontally for a selfie-view display.\n",
    "    cv2.imshow('MediaPipe Pose', cv2.flip(image, 1))\n",
    "    if (cv2.waitKey(5) & 0xFF == 27): ## or i>MaxRecording s :\n",
    "      break\n",
    "  cap.release()\n",
    "  df = pd.DataFrame(PoseData)\n",
    "  df.to_csv(os.path.join(\"..\",\"data\", \"csv\", imageName + \".csv\"))\n",
    "  cv2.destroyAllWindows()"
   ]
  },
  {
   "cell_type": "code",
   "execution_count": null,
   "metadata": {},
   "outputs": [],
   "source": [
    "if calcThis:\n",
    "    cap.release()\n",
    "    cv2.destroyAllWindows()"
   ]
  },
  {
   "cell_type": "code",
   "execution_count": 5,
   "metadata": {},
   "outputs": [],
   "source": [
    "import cv2\n",
    "images = []\n",
    "cap = cv2.VideoCapture(os.path.join('..', 'data', 'MariaDancingSequence.webm'))\n",
    "# for i in range(315):\n",
    "fromFrame = 0\n",
    "tillFrame = 815\n",
    "lastSuccessfulFrame = 0\n",
    "numberOfsuccessivUnsuccessesToBreak = 20\n",
    "unsuccesses = 0\n",
    "frame = 0\n",
    "while unsuccesses < numberOfsuccessivUnsuccessesToBreak:\n",
    "  success, image = cap.read()\n",
    "  if success and (frame>=fromFrame and frame<=tillFrame):\n",
    "    images.append(image)\n",
    "  else:\n",
    "    images.append('empty')\n",
    "\n",
    "  if not success:\n",
    "    unsuccesses += 1\n",
    "  else:\n",
    "    unsuccesses = 0\n",
    "    lastSuccessfulFrame = frame\n",
    "\n",
    "  frame += 1\n",
    "\n",
    "cap.release()\n",
    "\n",
    "durationOfClip = (2 * 60 + 42)\n",
    "fps = int((lastSuccessfulFrame) / durationOfClip)"
   ]
  },
  {
   "cell_type": "markdown",
   "metadata": {},
   "source": [
    "Load the data from the cvs storage"
   ]
  },
  {
   "cell_type": "code",
   "execution_count": 6,
   "metadata": {},
   "outputs": [],
   "source": [
    "fileName = \"MariaMovementSequence_xyz_27Sept\"\n",
    "df = pd.read_csv(\n",
    "    os.path.join(\"..\",\"data\", \"csv\", fileName + \".csv\"), \n",
    "    header=0,\n",
    "    index_col=0)\n",
    "df[\"time\"] = 1000 * df.index / fps"
   ]
  },
  {
   "cell_type": "code",
   "execution_count": 7,
   "metadata": {},
   "outputs": [],
   "source": [
    "landmarks = [\n",
    "        'nose',\n",
    "        'left_eye_inner', 'left_eye', 'left_eye_outer',\n",
    "        'right_eye_inner', 'right_eye', 'right_eye_outer',\n",
    "        'left_ear', 'right_ear',\n",
    "        'mouth_left', 'mouth_right',\n",
    "        'left_shoulder', 'right_shoulder',\n",
    "        'left_elbow', 'right_elbow',\n",
    "        'left_wrist', 'right_wrist',\n",
    "        'left_pinky_1', 'right_pinky_1',\n",
    "        'left_index_1', 'right_index_1',\n",
    "        'left_thumb_2', 'right_thumb_2',\n",
    "        'left_hip', 'right_hip',\n",
    "        'left_knee', 'right_knee',\n",
    "        'left_ankle', 'right_ankle',\n",
    "        'left_heel', 'right_heel',\n",
    "        'left_foot_index', 'right_foot_index',\n",
    "    ]\n",
    "index_from_landmark = {name: i for i,name in enumerate(landmarks)}"
   ]
  },
  {
   "cell_type": "code",
   "execution_count": null,
   "metadata": {},
   "outputs": [],
   "source": [
    "import matplotlib.pyplot as plt\n",
    "startAt = 276\n",
    "steps = 7\n",
    "ncols = 3\n",
    "fig, axes = plt.subplots(nrows=3, ncols=ncols)\n",
    "# frame = startAt\n",
    "for i in range(6):\n",
    "    row = round(np.floor(i/ncols))\n",
    "    col = i % ncols\n",
    "    timeframe = (startAt + (i * steps))\n",
    "    time = round(timeframe / fps, 1)\n",
    "    axes[row,col].imshow(images[timeframe])\n",
    "    axes[row,col].set_title('time in seconds {}'.format(time))\n",
    "these = [index_from_landmark[i] for i in ['left_hip', 'right_hip', 'left_knee', 'right_knee']]\n",
    "# print( [landmarks[i] for i in these])\n",
    "df[(df.index>=startAt) & (df.index <= timeframe)].plot(x=\"time\", y=['x' + str(i) for i in these], ax=axes[2,0])\n",
    "axes[2,0].set_title('x-coords')\n",
    "df[(df.index>=startAt) & (df.index <= timeframe)].plot(x=\"time\", y=['y' + str(i) for i in these], ax=axes[2,1])\n",
    "axes[2,1].set_title('y-coords')\n",
    "df[(df.index>=startAt) & (df.index <= timeframe)].plot(x=\"time\", y=['z' + str(i) for i in these], ax=axes[2,2])\n",
    "axes[2,2].set_title('z-coords')\n",
    "fig.set_size_inches(28.5, 15.0)\n",
    "# fig.set_size_inches(18.5, 8.0)\n",
    "plt.show()"
   ]
  },
  {
   "cell_type": "markdown",
   "metadata": {},
   "source": [
    "## Analysis"
   ]
  },
  {
   "cell_type": "code",
   "execution_count": 8,
   "metadata": {},
   "outputs": [],
   "source": [
    "Annotations = {\n",
    "    \"hip_joint_right\": [\n",
    "        {\"from\": \"00:05:12\", \"till\": \"00:07:11\"},\n",
    "        {\"from\": \"00:44:03\", \"till\": \"00:46:03\"}],\n",
    "    \"elbow_hinge_left\": [\n",
    "        {\"from\": \"00:07:14\", \"till\":\"00:11:07\"},\n",
    "        {\"from\": \"00:46:03\", \"till\":\"00:48:06\"}],\n",
    "    \"pivot_right\":[{\"from\": \"00:48:07\", \"till\": \"00:49:13\"}],\n",
    "    \"pivot_left\":[{\"from\": \"00:50:04\", \"till\": \"00:52:03\"}],\n",
    "    \"rotation_shoulder_left\": [{\"from\": \"00:11:08\" , \"till\":\"00:14:02\"}],\n",
    "    \"thumb_movement_left\": [{\"from\": \"00:14:03\", \"till\": \"00:18:10\"}],\n",
    "    \"knee_hinge_right\":[{\"from\":\"00:18:11\", \"till\": \"00:21:01\"}]\n",
    "}"
   ]
  },
  {
   "cell_type": "code",
   "execution_count": 9,
   "metadata": {},
   "outputs": [],
   "source": [
    "def lightenUp(x, byFactor=2):\n",
    "    return np.add(x, np.divide((255 - x), byFactor)).astype(int)\n",
    "\n",
    "def kdenLiveTimeToFrame(time, fps=15):\n",
    "    secs = time.split(\":\")\n",
    "    return int(secs[0]) * 60 + int(secs[1]) * fps + int(secs[2])\n",
    "    "
   ]
  },
  {
   "cell_type": "code",
   "execution_count": null,
   "metadata": {},
   "outputs": [],
   "source": [
    "startAt = int(Annotations[\"leg_turn\"][\"from\"] * fps / 1000)\n",
    "steps = 3\n",
    "ncols = 3\n",
    "fig, axes = plt.subplots(nrows=3, ncols=ncols)\n",
    "# frame = startAt\n",
    "for i in range(6):\n",
    "    row = round(np.floor(i/ncols))\n",
    "    col = i % ncols\n",
    "    timeframe = (startAt + (i * steps))\n",
    "    time = round(timeframe / fps, 1)\n",
    "    # print(timeframe)\n",
    "    axes[row,col].imshow(lightenUp(images[timeframe], 5))\n",
    "    axes[row,col].set_title('time in seconds {}'.format(time))\n",
    "these = [index_from_landmark[i] for i in ['left_hip', 'right_hip', 'left_knee', 'right_knee',\n",
    "'left_ankle', 'right_ankle',\n",
    "        'left_heel', 'right_heel',\n",
    "        'left_foot_index', 'right_foot_index']]\n",
    "# print( [landmarks[i] for i in these])\n",
    "df[(df.index>=startAt) & (df.index <= timeframe)].plot(x=\"time\", y=['x' + str(i) for i in these], ax=axes[2,0])\n",
    "axes[2,0].set_title('x-coords')\n",
    "df[(df.index>=startAt) & (df.index <= timeframe)].plot(x=\"time\", y=['y' + str(i) for i in these], ax=axes[2,1])\n",
    "axes[2,1].set_title('y-coords')\n",
    "df[(df.index>=startAt) & (df.index <= timeframe)].plot(x=\"time\", y=['z' + str(i) for i in these], ax=axes[2,2])\n",
    "axes[2,2].set_title('z-coords')\n",
    "fig.set_size_inches(28.5, 15.0)\n",
    "# fig.set_size_inches(18.5, 8.0)\n",
    "plt.show()"
   ]
  },
  {
   "cell_type": "markdown",
   "metadata": {},
   "source": [
    "## Gaussian Mixture Models"
   ]
  },
  {
   "cell_type": "code",
   "execution_count": 10,
   "metadata": {},
   "outputs": [],
   "source": [
    "import numpy as np\n",
    "from sklearn.mixture import GaussianMixture\n",
    "import time"
   ]
  },
  {
   "cell_type": "markdown",
   "metadata": {},
   "source": [
    "### Generate training data"
   ]
  },
  {
   "cell_type": "code",
   "execution_count": 46,
   "metadata": {},
   "outputs": [],
   "source": [
    "def rescaleEntry(name, x, zero, scale):\n",
    "    if name.startswith('x'):\n",
    "        return (x - zero[0]) / scale\n",
    "    elif name.startswith('y'):\n",
    "        return (x - zero[1]) / scale\n",
    "    elif name.startswith('z'):\n",
    "        return (x - zero[2]) / scale\n",
    "    else:\n",
    "        return x"
   ]
  },
  {
   "cell_type": "code",
   "execution_count": 51,
   "metadata": {},
   "outputs": [],
   "source": [
    "def rescale(x):\n",
    "    ## nose is 0\n",
    "    nose = np.array([coord for name, coord in x.items() if name[1:] == str(index_from_landmark['nose'])])\n",
    "    leftEye = np.array([coord for name, coord in x.items() if name[1:] == str(index_from_landmark['left_eye_outer'])])\n",
    "    rightEye = np.array([coord for name, coord in x.items() if name[1:] == str(index_from_landmark['right_eye_outer'])])\n",
    "    scale = np.linalg.norm(leftEye - rightEye)\n",
    "    return {(name + \"_rescaled\" if name[0] in ['x', 'y', 'z'] else name) : rescaleEntry(name, coord, nose, scale) for name, coord in x.items()}\n"
   ]
  },
  {
   "cell_type": "code",
   "execution_count": 52,
   "metadata": {},
   "outputs": [],
   "source": [
    "df_rescaled_list = list()\n",
    "for i, row in df.iterrows():\n",
    "    df_rescaled_list.append(rescale(row))\n",
    "df_rescaled = pd.DataFrame(df_rescaled_list).drop([\"x0_rescaled\", \"y0_rescaled\", \"z0_rescaled\"], axis=1)"
   ]
  },
  {
   "cell_type": "code",
   "execution_count": null,
   "metadata": {},
   "outputs": [],
   "source": [
    "X = GMM = GaussianMixture(n_components=3, random_state=0).fit(X)"
   ]
  },
  {
   "cell_type": "code",
   "execution_count": 75,
   "metadata": {},
   "outputs": [],
   "source": [
    "def generateDataFromAnnotation(df, anno, batch_size=4):\n",
    "    result = dict()\n",
    "    onlyCoordinateColumns = [c for c in df.columns if c[0] in ['x', 'y', 'z']]\n",
    "    for name, speclist in anno.items():\n",
    "        # print(name)\n",
    "        result_list = list()\n",
    "        for specs in speclist:\n",
    "            fr = kdenLiveTimeToFrame(specs[\"from\"])\n",
    "            to = kdenLiveTimeToFrame(specs[\"till\"])\n",
    "            till = to - batch_size + 1\n",
    "            if till < fr:\n",
    "                continue\n",
    "            for i in range(fr, till + 1):\n",
    "                dat = df.loc[(fr + i):(fr + i + batch_size), onlyCoordinateColumns]\n",
    "                result_list.append(dat.to_numpy().flatten())\n",
    "        result[name] = np.array(result_list)\n",
    "\n",
    "    return result\n"
   ]
  },
  {
   "cell_type": "code",
   "execution_count": 76,
   "metadata": {},
   "outputs": [],
   "source": [
    "result = generateDataFromAnnotation(df=df_rescaled, anno=Annotations, batch_size=3)"
   ]
  },
  {
   "cell_type": "code",
   "execution_count": 80,
   "metadata": {},
   "outputs": [],
   "source": [
    "allResults = np.vstack(tuple(result.values()))\n"
   ]
  },
  {
   "cell_type": "code",
   "execution_count": 82,
   "metadata": {},
   "outputs": [],
   "source": [
    "GMM = GaussianMixture(n_components=len(Annotations.keys()), random_state=0).fit(allResults)"
   ]
  },
  {
   "cell_type": "code",
   "execution_count": 83,
   "metadata": {},
   "outputs": [],
   "source": [
    "labels = GMM.predict(allResults)"
   ]
  },
  {
   "cell_type": "code",
   "execution_count": 85,
   "metadata": {},
   "outputs": [],
   "source": [
    "from matplotlib import pyplot as plt"
   ]
  },
  {
   "cell_type": "code",
   "execution_count": 87,
   "metadata": {},
   "outputs": [
    {
     "data": {
      "image/png": "[encoded data removed]",
      "text/plain": [
       "<Figure size 640x480 with 1 Axes>"
      ]
     },
     "metadata": {},
     "output_type": "display_data"
    }
   ],
   "source": [
    "plt.plot(labels)\n",
    "plt.show()"
   ]
  },
  {
   "cell_type": "code",
   "execution_count": 88,
   "metadata": {},
   "outputs": [
    {
     "data": {
      "text/plain": [
       "array([0.14678899, 0.3058104 , 0.04587156, 0.10703364, 0.00917431,\n",
       "       0.00611621, 0.37920489])"
      ]
     },
     "execution_count": 88,
     "metadata": {},
     "output_type": "execute_result"
    }
   ],
   "source": [
    "GMM.score(allResults[])"
   ]
  }
 ],
 "metadata": {
  "kernelspec": {
   "display_name": "Python 3.8.10 ('.venv': venv)",
   "language": "python",
   "name": "python3"
  },
  "language_info": {
   "codemirror_mode": {
    "name": "ipython",
    "version": 3
   },
   "file_extension": ".py",
   "mimetype": "text/x-python",
   "name": "python",
   "nbconvert_exporter": "python",
   "pygments_lexer": "ipython3",
   "version": "3.8.10"
  },
  "orig_nbformat": 4,
  "vscode": {
   "interpreter": {
    "hash": "5232aae36e8705d7fd9599d01bfceaf619d9806582d70f55f6f83c62f1ed400f"
   }
  }
 },
 "nbformat": 4,
 "nbformat_minor": 2
}

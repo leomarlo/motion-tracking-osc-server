{
 "cells": [
  {
   "cell_type": "markdown",
   "metadata": {},
   "source": [
    "Copying code from here: https://python-osc.readthedocs.io/en/latest/client.html"
   ]
  },
  {
   "cell_type": "code",
   "execution_count": 2,
   "metadata": {},
   "outputs": [],
   "source": [
    "from pythonosc.udp_client import SimpleUDPClient\n",
    "\n",
    "ip = \"127.0.0.1\"\n",
    "port = 1337\n",
    "\n",
    "client = SimpleUDPClient(ip, port)  # Create client\n",
    "\n",
    "client.send_message(\"/some/address\", 123)   # Send float message\n",
    "client.send_message(\"/some/address\", [1, 2., \"hello\"])  # Send message with int, float and string\n"
   ]
  },
  {
   "cell_type": "code",
   "execution_count": 1,
   "metadata": {},
   "outputs": [
    {
     "ename": "RuntimeError",
     "evalue": "asyncio.run() cannot be called from a running event loop",
     "output_type": "error",
     "traceback": [
      "\u001b[0;31m---------------------------------------------------------------------------\u001b[0m",
      "\u001b[0;31mRuntimeError\u001b[0m                              Traceback (most recent call last)",
      "Cell \u001b[0;32mIn [1], line 33\u001b[0m\n\u001b[1;32m     28\u001b[0m     \u001b[38;5;28;01mawait\u001b[39;00m loop()  \u001b[38;5;66;03m# Enter main loop of program\u001b[39;00m\n\u001b[1;32m     30\u001b[0m     transport\u001b[38;5;241m.\u001b[39mclose()  \u001b[38;5;66;03m# Clean up serve endpoint\u001b[39;00m\n\u001b[0;32m---> 33\u001b[0m \u001b[43masyncio\u001b[49m\u001b[38;5;241;43m.\u001b[39;49m\u001b[43mrun\u001b[49m\u001b[43m(\u001b[49m\u001b[43minit_main\u001b[49m\u001b[43m(\u001b[49m\u001b[43m)\u001b[49m\u001b[43m)\u001b[49m\n",
      "File \u001b[0;32m/usr/lib/python3.8/asyncio/runners.py:33\u001b[0m, in \u001b[0;36mrun\u001b[0;34m(main, debug)\u001b[0m\n\u001b[1;32m      9\u001b[0m \u001b[39m\"\"\"Execute the coroutine and return the result.\u001b[39;00m\n\u001b[1;32m     10\u001b[0m \n\u001b[1;32m     11\u001b[0m \u001b[39mThis function runs the passed coroutine, taking care of\u001b[39;00m\n\u001b[0;32m   (...)\u001b[0m\n\u001b[1;32m     30\u001b[0m \u001b[39m    asyncio.run(main())\u001b[39;00m\n\u001b[1;32m     31\u001b[0m \u001b[39m\"\"\"\u001b[39;00m\n\u001b[1;32m     32\u001b[0m \u001b[39mif\u001b[39;00m events\u001b[39m.\u001b[39m_get_running_loop() \u001b[39mis\u001b[39;00m \u001b[39mnot\u001b[39;00m \u001b[39mNone\u001b[39;00m:\n\u001b[0;32m---> 33\u001b[0m     \u001b[39mraise\u001b[39;00m \u001b[39mRuntimeError\u001b[39;00m(\n\u001b[1;32m     34\u001b[0m         \u001b[39m\"\u001b[39m\u001b[39masyncio.run() cannot be called from a running event loop\u001b[39m\u001b[39m\"\u001b[39m)\n\u001b[1;32m     36\u001b[0m \u001b[39mif\u001b[39;00m \u001b[39mnot\u001b[39;00m coroutines\u001b[39m.\u001b[39miscoroutine(main):\n\u001b[1;32m     37\u001b[0m     \u001b[39mraise\u001b[39;00m \u001b[39mValueError\u001b[39;00m(\u001b[39m\"\u001b[39m\u001b[39ma coroutine was expected, got \u001b[39m\u001b[39m{!r}\u001b[39;00m\u001b[39m\"\u001b[39m\u001b[39m.\u001b[39mformat(main))\n",
      "\u001b[0;31mRuntimeError\u001b[0m: asyncio.run() cannot be called from a running event loop"
     ]
    }
   ],
   "source": [
    "from pythonosc.osc_server import AsyncIOOSCUDPServer\n",
    "from pythonosc.dispatcher import Dispatcher\n",
    "import asyncio\n",
    "\n",
    "\n",
    "def filter_handler(address, *args):\n",
    "    print(f\"{address}: {args}\")\n",
    "\n",
    "\n",
    "dispatcher = Dispatcher()\n",
    "dispatcher.map(\"/filter\", filter_handler)\n",
    "\n",
    "ip = \"127.0.0.1\"\n",
    "port = 1339\n",
    "\n",
    "\n",
    "async def loop():\n",
    "    \"\"\"Example main loop that only runs for 10 iterations before finishing\"\"\"\n",
    "    for i in range(10):\n",
    "        print(f\"Loop {i}\")\n",
    "        await asyncio.sleep(1)\n",
    "\n",
    "\n",
    "async def init_main():\n",
    "    server = AsyncIOOSCUDPServer((ip, port), dispatcher, asyncio.get_event_loop())\n",
    "    transport, protocol = await server.create_serve_endpoint()  # Create datagram endpoint and start serving\n",
    "\n",
    "    await loop()  # Enter main loop of program\n",
    "\n",
    "    transport.close()  # Clean up serve endpoint\n",
    "\n",
    "\n",
    "asyncio.run(init_main())"
   ]
  }
 ],
 "metadata": {
  "kernelspec": {
   "display_name": "Python 3.8.10 ('.venv': venv)",
   "language": "python",
   "name": "python3"
  },
  "language_info": {
   "codemirror_mode": {
    "name": "ipython",
    "version": 3
   },
   "file_extension": ".py",
   "mimetype": "text/x-python",
   "name": "python",
   "nbconvert_exporter": "python",
   "pygments_lexer": "ipython3",
   "version": "3.8.10"
  },
  "orig_nbformat": 4,
  "vscode": {
   "interpreter": {
    "hash": "5232aae36e8705d7fd9599d01bfceaf619d9806582d70f55f6f83c62f1ed400f"
   }
  }
 },
 "nbformat": 4,
 "nbformat_minor": 2
}

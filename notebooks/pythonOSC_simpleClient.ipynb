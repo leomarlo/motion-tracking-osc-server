{
 "cells": [
  {
   "cell_type": "markdown",
   "metadata": {},
   "source": [
    "Copying code from here: https://python-osc.readthedocs.io/en/latest/client.html"
   ]
  },
  {
   "cell_type": "code",
   "execution_count": 2,
   "metadata": {},
   "outputs": [],
   "source": [
    "from pythonosc.udp_client import SimpleUDPClient\n",
    "\n",
    "ip = \"127.0.0.1\"\n",
    "port = 1337\n",
    "\n",
    "client = SimpleUDPClient(ip, port)  # Create client\n",
    "\n",
    "client.send_message(\"/some/address\", 123)   # Send float message\n",
    "client.send_message(\"/some/address\", [1, 2., \"hello\"])  # Send message with int, float and string\n"
   ]
  }
 ],
 "metadata": {
  "kernelspec": {
   "display_name": "Python 3.8.10 ('.venv': venv)",
   "language": "python",
   "name": "python3"
  },
  "language_info": {
   "codemirror_mode": {
    "name": "ipython",
    "version": 3
   },
   "file_extension": ".py",
   "mimetype": "text/x-python",
   "name": "python",
   "nbconvert_exporter": "python",
   "pygments_lexer": "ipython3",
   "version": "3.8.10"
  },
  "orig_nbformat": 4,
  "vscode": {
   "interpreter": {
    "hash": "5232aae36e8705d7fd9599d01bfceaf619d9806582d70f55f6f83c62f1ed400f"
   }
  }
 },
 "nbformat": 4,
 "nbformat_minor": 2
}

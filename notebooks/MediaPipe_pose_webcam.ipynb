{
 "cells": [
  {
   "cell_type": "markdown",
   "metadata": {},
   "source": [
    "Copying code from https://google.github.io/mediapipe/solutions/pose#python-solution-api\n"
   ]
  },
  {
   "cell_type": "code",
   "execution_count": 1,
   "metadata": {},
   "outputs": [],
   "source": [
    "import os\n",
    "import cv2\n",
    "import mediapipe as mp\n",
    "import pandas as pd\n",
    "import numpy as np\n",
    "mp_drawing = mp.solutions.drawing_utils\n",
    "mp_drawing_styles = mp.solutions.drawing_styles\n",
    "mp_pose = mp.solutions.pose\n",
    "\n",
    "def Euclidean(x,y):\n",
    "    return np.sqrt((y[0]-x[0])**2 + (y[1] - x[1])**2)"
   ]
  },
  {
   "cell_type": "markdown",
   "metadata": {},
   "source": [
    "Setting the OSC client:"
   ]
  },
  {
   "cell_type": "code",
   "execution_count": 2,
   "metadata": {},
   "outputs": [],
   "source": [
    "\n",
    "\n",
    "class FullBodyPoseEmbedder(object):\n",
    "  \"\"\"Converts 3D pose landmarks into 3D embedding.\"\"\"\n",
    "\n",
    "  def __init__(self, torso_size_multiplier=2.5):\n",
    "    # Multiplier to apply to the torso to get minimal body size.\n",
    "    self._torso_size_multiplier = torso_size_multiplier\n",
    "\n",
    "    # Names of the landmarks as they appear in the prediction.\n",
    "    self._landmark_names = [\n",
    "        'nose',\n",
    "        'left_eye_inner', 'left_eye', 'left_eye_outer',\n",
    "        'right_eye_inner', 'right_eye', 'right_eye_outer',\n",
    "        'left_ear', 'right_ear',\n",
    "        'mouth_left', 'mouth_right',\n",
    "        'left_shoulder', 'right_shoulder',\n",
    "        'left_elbow', 'right_elbow',\n",
    "        'left_wrist', 'right_wrist',\n",
    "        'left_pinky_1', 'right_pinky_1',\n",
    "        'left_index_1', 'right_index_1',\n",
    "        'left_thumb_2', 'right_thumb_2',\n",
    "        'left_hip', 'right_hip',\n",
    "        'left_knee', 'right_knee',\n",
    "        'left_ankle', 'right_ankle',\n",
    "        'left_heel', 'right_heel',\n",
    "        'left_foot_index', 'right_foot_index',\n",
    "    ]\n",
    "\n",
    "  def __call__(self, landmarks):\n",
    "    \"\"\"Normalizes pose landmarks and converts to embedding\n",
    "    \n",
    "    Args:\n",
    "      landmarks - NumPy array with 3D landmarks of shape (N, 3).\n",
    "\n",
    "    Result:\n",
    "      Numpy array with pose embedding of shape (M, 3) where `M` is the number of\n",
    "      pairwise distances defined in `_get_pose_distance_embedding`.\n",
    "    \"\"\"\n",
    "    assert landmarks.shape[0] == len(self._landmark_names), 'Unexpected number of landmarks: {}'.format(landmarks.shape[0])\n",
    "\n",
    "    # Get pose landmarks.\n",
    "    landmarks = np.copy(landmarks)\n",
    "\n",
    "    # Normalize landmarks.\n",
    "    landmarks = self._normalize_pose_landmarks(landmarks)\n",
    "\n",
    "    # Get embedding.\n",
    "    embedding = self._get_pose_distance_embedding(landmarks)\n",
    "\n",
    "    return embedding\n",
    "\n",
    "  def _normalize_pose_landmarks(self, landmarks):\n",
    "    \"\"\"Normalizes landmarks translation and scale.\"\"\"\n",
    "    landmarks = np.copy(landmarks)\n",
    "\n",
    "    # Normalize translation.\n",
    "    pose_center = self._get_pose_center(landmarks)\n",
    "    landmarks -= pose_center\n",
    "\n",
    "    # Normalize scale.\n",
    "    pose_size = self._get_pose_size(landmarks, self._torso_size_multiplier)\n",
    "    landmarks /= pose_size\n",
    "    # Multiplication by 100 is not required, but makes it eaasier to debug.\n",
    "    landmarks *= 100\n",
    "\n",
    "    return landmarks\n",
    "\n",
    "  def _get_pose_center(self, landmarks):\n",
    "    \"\"\"Calculates pose center as point between hips.\"\"\"\n",
    "    left_hip = landmarks[self._landmark_names.index('left_hip')]\n",
    "    right_hip = landmarks[self._landmark_names.index('right_hip')]\n",
    "    center = (left_hip + right_hip) * 0.5\n",
    "    return center\n",
    "\n",
    "  def _get_pose_size(self, landmarks, torso_size_multiplier):\n",
    "    \"\"\"Calculates pose size.\n",
    "    \n",
    "    It is the maximum of two values:\n",
    "      * Torso size multiplied by `torso_size_multiplier`\n",
    "      * Maximum distance from pose center to any pose landmark\n",
    "    \"\"\"\n",
    "    # This approach uses only 2D landmarks to compute pose size.\n",
    "    landmarks = landmarks[:, :2]\n",
    "\n",
    "    # Hips center.\n",
    "    left_hip = landmarks[self._landmark_names.index('left_hip')]\n",
    "    right_hip = landmarks[self._landmark_names.index('right_hip')]\n",
    "    hips = (left_hip + right_hip) * 0.5\n",
    "\n",
    "    # Shoulders center.\n",
    "    left_shoulder = landmarks[self._landmark_names.index('left_shoulder')]\n",
    "    right_shoulder = landmarks[self._landmark_names.index('right_shoulder')]\n",
    "    shoulders = (left_shoulder + right_shoulder) * 0.5\n",
    "\n",
    "    # Torso size as the minimum body size.\n",
    "    torso_size = np.linalg.norm(shoulders - hips)\n",
    "\n",
    "    # Max dist to pose center.\n",
    "    pose_center = self._get_pose_center(landmarks)\n",
    "    max_dist = np.max(np.linalg.norm(landmarks - pose_center, axis=1))\n",
    "\n",
    "    return max(torso_size * torso_size_multiplier, max_dist)\n",
    "\n",
    "  def _get_pose_distance_embedding(self, landmarks):\n",
    "    \"\"\"Converts pose landmarks into 3D embedding.\n",
    "\n",
    "    We use several pairwise 3D distances to form pose embedding. All distances\n",
    "    include X and Y components with sign. We differnt types of pairs to cover\n",
    "    different pose classes. Feel free to remove some or add new.\n",
    "    \n",
    "    Args:\n",
    "      landmarks - NumPy array with 3D landmarks of shape (N, 3).\n",
    "\n",
    "    Result:\n",
    "      Numpy array with pose embedding of shape (M, 3) where `M` is the number of\n",
    "      pairwise distances.\n",
    "    \"\"\"\n",
    "    embedding = np.array([\n",
    "        # One joint.\n",
    "\n",
    "        self._get_distance(\n",
    "            self._get_average_by_names(landmarks, 'left_hip', 'right_hip'),\n",
    "            self._get_average_by_names(landmarks, 'left_shoulder', 'right_shoulder')),\n",
    "\n",
    "        self._get_distance_by_names(landmarks, 'left_shoulder', 'left_elbow'),\n",
    "        self._get_distance_by_names(landmarks, 'right_shoulder', 'right_elbow'),\n",
    "\n",
    "        self._get_distance_by_names(landmarks, 'left_elbow', 'left_wrist'),\n",
    "        self._get_distance_by_names(landmarks, 'right_elbow', 'right_wrist'),\n",
    "\n",
    "        self._get_distance_by_names(landmarks, 'left_hip', 'left_knee'),\n",
    "        self._get_distance_by_names(landmarks, 'right_hip', 'right_knee'),\n",
    "\n",
    "        self._get_distance_by_names(landmarks, 'left_knee', 'left_ankle'),\n",
    "        self._get_distance_by_names(landmarks, 'right_knee', 'right_ankle'),\n",
    "\n",
    "        # Two joints.\n",
    "\n",
    "        self._get_distance_by_names(landmarks, 'left_shoulder', 'left_wrist'),\n",
    "        self._get_distance_by_names(landmarks, 'right_shoulder', 'right_wrist'),\n",
    "\n",
    "        self._get_distance_by_names(landmarks, 'left_hip', 'left_ankle'),\n",
    "        self._get_distance_by_names(landmarks, 'right_hip', 'right_ankle'),\n",
    "\n",
    "        # Four joints.\n",
    "\n",
    "        self._get_distance_by_names(landmarks, 'left_hip', 'left_wrist'),\n",
    "        self._get_distance_by_names(landmarks, 'right_hip', 'right_wrist'),\n",
    "\n",
    "        # Five joints.\n",
    "\n",
    "        self._get_distance_by_names(landmarks, 'left_shoulder', 'left_ankle'),\n",
    "        self._get_distance_by_names(landmarks, 'right_shoulder', 'right_ankle'),\n",
    "        \n",
    "        self._get_distance_by_names(landmarks, 'left_hip', 'left_wrist'),\n",
    "        self._get_distance_by_names(landmarks, 'right_hip', 'right_wrist'),\n",
    "\n",
    "        # Cross body.\n",
    "\n",
    "        self._get_distance_by_names(landmarks, 'left_elbow', 'right_elbow'),\n",
    "        self._get_distance_by_names(landmarks, 'left_knee', 'right_knee'),\n",
    "\n",
    "        self._get_distance_by_names(landmarks, 'left_wrist', 'right_wrist'),\n",
    "        self._get_distance_by_names(landmarks, 'left_ankle', 'right_ankle'),\n",
    "\n",
    "        # Body bent direction.\n",
    "\n",
    "        # self._get_distance(\n",
    "        #     self._get_average_by_names(landmarks, 'left_wrist', 'left_ankle'),\n",
    "        #     landmarks[self._landmark_names.index('left_hip')]),\n",
    "        # self._get_distance(\n",
    "        #     self._get_average_by_names(landmarks, 'right_wrist', 'right_ankle'),\n",
    "        #     landmarks[self._landmark_names.index('right_hip')]),\n",
    "    ])\n",
    "\n",
    "    return embedding\n",
    "\n",
    "  def _convert_to_numpy(self, mediapipe_landmarks):\n",
    "    return np.array([([lm.x, lm.y, lm.z]) for lm in mediapipe_landmarks.landmark])\n",
    "\n",
    "\n",
    "  def _get_average_by_names(self, landmarks, name_from, name_to):\n",
    "    lmk_from = landmarks[self._landmark_names.index(name_from)]\n",
    "    lmk_to = landmarks[self._landmark_names.index(name_to)]\n",
    "    return (lmk_from + lmk_to) * 0.5\n",
    "\n",
    "  def _get_distance_by_names(self, landmarks, name_from, name_to):\n",
    "    lmk_from = landmarks[self._landmark_names.index(name_from)]\n",
    "    lmk_to = landmarks[self._landmark_names.index(name_to)]\n",
    "    return self._get_distance(lmk_from, lmk_to)\n",
    "\n",
    "  def _get_distance(self, lmk_from, lmk_to):\n",
    "    return lmk_to - lmk_from\n"
   ]
  },
  {
   "cell_type": "markdown",
   "metadata": {},
   "source": [
    "Launch the code below:"
   ]
  },
  {
   "cell_type": "code",
   "execution_count": 3,
   "metadata": {},
   "outputs": [
    {
     "name": "stderr",
     "output_type": "stream",
     "text": [
      "INFO: Created TensorFlow Lite XNNPACK delegate for CPU.\n"
     ]
    },
    {
     "name": "stdout",
     "output_type": "stream",
     "text": [
      "poses size 230.80914169840838\n",
      "center [ 55.22584617 159.78085399   0.2929661 ]\n",
      "poses size 236.9148689862254\n",
      "center [ 57.50347376 159.24924016   0.23917537]\n",
      "poses size 252.5169815891819\n",
      "center [ 44.31635141 149.63223934   0.29042885]\n"
     ]
    }
   ],
   "source": [
    "# For webcam input:\n",
    "from ast import ListComp\n",
    "\n",
    "\n",
    "PoseData = list()\n",
    "cap = cv2.VideoCapture(0)\n",
    "i = 0\n",
    "imageName = \"Leo21Sept_1\"\n",
    "MaxRecordings = 50\n",
    "pose = mp_pose.Pose(\n",
    "    min_detection_confidence=0.5,\n",
    "    min_tracking_confidence=0.5)  # as pose:\n",
    "\n",
    "emb = FullBodyPoseEmbedder()\n",
    "while cap.isOpened():\n",
    "  \n",
    "  i += 1\n",
    "  success, image = cap.read()\n",
    "  if not success:\n",
    "    print(\"Ignoring empty camera frame.\")\n",
    "    # If loading a video, use 'break' instead of 'continue'.\n",
    "    continue\n",
    "\n",
    "  # To improve performance, optionally mark the image as not writeable to\n",
    "  # pass by reference.\n",
    "  image.flags.writeable = False\n",
    "  image = cv2.cvtColor(image, cv2.COLOR_BGR2RGB)\n",
    "  results = pose.process(image)\n",
    "\n",
    "  # Draw the pose annotation on the image.\n",
    "  image.flags.writeable = True\n",
    "  image = cv2.cvtColor(image, cv2.COLOR_RGB2BGR)\n",
    "  mp_drawing.draw_landmarks(\n",
    "      image,\n",
    "      results.pose_landmarks,\n",
    "      mp_pose.POSE_CONNECTIONS,\n",
    "      landmark_drawing_spec=mp_drawing_styles.get_default_pose_landmarks_style())\n",
    "\n",
    "  # prinitng landmarks\n",
    "  try:\n",
    "    # newData = {coord + str(j):lm.__getattribute__(coord)  for j, lm in enumerate(results.pose_landmarks.landmark) for coord in [\"x\", \"y\"]}\n",
    "    landmarks = emb._convert_to_numpy(results.pose_landmarks)\n",
    "    center = emb._get_pose_center(landmarks)\n",
    "    size = emb._get_pose_size(landmarks, emb._torso_size_multiplier)\n",
    "    # newPoseSize = MediaPipe.poses[\"size\"][\"current\"]\n",
    "    # centerVel = Euclidean(\n",
    "    #     MediaPipe.poses[\"center\"][\"current\"],\n",
    "    #     MediaPipe.poses[\"center\"][\"previous\"]\n",
    "    #   )\n",
    "    # sizeDiff = np.abs(MediaPipe.poses[\"center\"][\"current\"] - MediaPipe.poses[\"center\"][\"previous\"])\n",
    "                \n",
    "    if i%20==1:\n",
    "      print(\"poses size\", 100 * size)\n",
    "      print(\"center\", 100 * center)\n",
    "      # print(\"sizeDiff\", 100 * sizeDiff)\n",
    "    # PoseData.append(newData)\n",
    "  except Exception as e:\n",
    "    print(str(e))\n",
    "\n",
    "\n",
    "  # Flip the image horizontally for a selfie-view display.\n",
    "  cv2.imshow('MediaPipe Pose', cv2.flip(image, 1))\n",
    "  if (cv2.waitKey(5) & 0xFF == 27) or i>MaxRecordings :\n",
    "    break\n",
    "cap.release()\n",
    "df = pd.DataFrame(PoseData)\n",
    "df.to_csv(os.path.join(\"..\",\"data\", imageName + \".csv\"))"
   ]
  },
  {
   "cell_type": "code",
   "execution_count": 4,
   "metadata": {},
   "outputs": [
    {
     "ename": "",
     "evalue": "",
     "output_type": "error",
     "traceback": [
      "\u001b[1;31mThe Kernel crashed while executing code in the the current cell or a previous cell. Please review the code in the cell(s) to identify a possible cause of the failure. Click <a href='https://aka.ms/vscodeJupyterKernelCrash'>here</a> for more info. View Jupyter <a href='command:jupyter.viewOutput'>log</a> for further details."
     ]
    }
   ],
   "source": [
    "cap.release()"
   ]
  },
  {
   "cell_type": "code",
   "execution_count": null,
   "metadata": {},
   "outputs": [],
   "source": [
    "cv2."
   ]
  },
  {
   "cell_type": "code",
   "execution_count": 12,
   "metadata": {},
   "outputs": [],
   "source": [
    "cap = cv2.VideoCapture(0)"
   ]
  },
  {
   "cell_type": "code",
   "execution_count": 3,
   "metadata": {},
   "outputs": [
    {
     "data": {
      "text/plain": [
       "True"
      ]
     },
     "execution_count": 3,
     "metadata": {},
     "output_type": "execute_result"
    }
   ],
   "source": [
    "cap.isOpened()"
   ]
  },
  {
   "cell_type": "code",
   "execution_count": 16,
   "metadata": {},
   "outputs": [],
   "source": [
    "cap.release()"
   ]
  },
  {
   "cell_type": "code",
   "execution_count": 10,
   "metadata": {},
   "outputs": [],
   "source": [
    "emb = FullBodyPoseEmbedder()"
   ]
  },
  {
   "cell_type": "code",
   "execution_count": 27,
   "metadata": {},
   "outputs": [],
   "source": [
    "lms = results.pose_landmarks"
   ]
  },
  {
   "cell_type": "code",
   "execution_count": 32,
   "metadata": {},
   "outputs": [],
   "source": [
    "lmx_array = np.array([([lm.x, lm.y]) for lm in lms.landmark])"
   ]
  },
  {
   "cell_type": "code",
   "execution_count": 33,
   "metadata": {},
   "outputs": [
    {
     "data": {
      "text/plain": [
       "array([0.55655271, 0.6653122 ])"
      ]
     },
     "execution_count": 33,
     "metadata": {},
     "output_type": "execute_result"
    }
   ],
   "source": [
    "emb._get_pose_center(lmx_array)"
   ]
  }
 ],
 "metadata": {
  "kernelspec": {
   "display_name": "Python 3.8.10 ('.venv': venv)",
   "language": "python",
   "name": "python3"
  },
  "language_info": {
   "codemirror_mode": {
    "name": "ipython",
    "version": 3
   },
   "file_extension": ".py",
   "mimetype": "text/x-python",
   "name": "python",
   "nbconvert_exporter": "python",
   "pygments_lexer": "ipython3",
   "version": "3.8.10"
  },
  "orig_nbformat": 4,
  "vscode": {
   "interpreter": {
    "hash": "5232aae36e8705d7fd9599d01bfceaf619d9806582d70f55f6f83c62f1ed400f"
   }
  }
 },
 "nbformat": 4,
 "nbformat_minor": 2
}

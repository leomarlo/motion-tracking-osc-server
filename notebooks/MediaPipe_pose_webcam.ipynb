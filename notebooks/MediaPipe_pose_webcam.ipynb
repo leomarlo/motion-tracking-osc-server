{
 "cells": [
  {
   "cell_type": "markdown",
   "metadata": {},
   "source": [
    "Copying code from https://google.github.io/mediapipe/solutions/pose#python-solution-api\n"
   ]
  },
  {
   "cell_type": "code",
   "execution_count": 46,
   "metadata": {},
   "outputs": [],
   "source": [
    "import os\n",
    "import cv2\n",
    "import mediapipe as mp\n",
    "import pandas as pd\n",
    "mp_drawing = mp.solutions.drawing_utils\n",
    "mp_drawing_styles = mp.solutions.drawing_styles\n",
    "mp_pose = mp.solutions.pose"
   ]
  },
  {
   "cell_type": "markdown",
   "metadata": {},
   "source": [
    "Setting the OSC client:"
   ]
  },
  {
   "cell_type": "code",
   "execution_count": 7,
   "metadata": {},
   "outputs": [],
   "source": [
    "from pythonosc.udp_client import SimpleUDPClient\n",
    "\n",
    "ip = \"127.0.0.1\"\n",
    "port = 1337\n",
    "\n",
    "client = SimpleUDPClient(ip, port)  # Create client"
   ]
  },
  {
   "cell_type": "markdown",
   "metadata": {},
   "source": [
    "Launch the code below:"
   ]
  },
  {
   "cell_type": "code",
   "execution_count": 51,
   "metadata": {},
   "outputs": [],
   "source": [
    "# For webcam input:\n",
    "from ast import ListComp\n",
    "\n",
    "\n",
    "PoseData = list()\n",
    "cap = cv2.VideoCapture(0)\n",
    "i = 0\n",
    "imageName = \"Testing\"\n",
    "MaxRecordings = 20\n",
    "with mp_pose.Pose(\n",
    "    min_detection_confidence=0.5,\n",
    "    min_tracking_confidence=0.5) as pose:\n",
    "\n",
    "  \n",
    "  while cap.isOpened():\n",
    "    \n",
    "    i += 1\n",
    "    success, image = cap.read()\n",
    "    if not success:\n",
    "      print(\"Ignoring empty camera frame.\")\n",
    "      # If loading a video, use 'break' instead of 'continue'.\n",
    "      continue\n",
    "\n",
    "    # To improve performance, optionally mark the image as not writeable to\n",
    "    # pass by reference.\n",
    "    image.flags.writeable = False\n",
    "    image = cv2.cvtColor(image, cv2.COLOR_BGR2RGB)\n",
    "    results = pose.process(image)\n",
    "\n",
    "    # Draw the pose annotation on the image.\n",
    "    image.flags.writeable = True\n",
    "    image = cv2.cvtColor(image, cv2.COLOR_RGB2BGR)\n",
    "    mp_drawing.draw_landmarks(\n",
    "        image,\n",
    "        results.pose_landmarks,\n",
    "        mp_pose.POSE_CONNECTIONS,\n",
    "        landmark_drawing_spec=mp_drawing_styles.get_default_pose_landmarks_style())\n",
    "\n",
    "    # prinitng landmarks\n",
    "    newData = {coord + str(j):lm.__getattribute__(coord)  for j, lm in enumerate(results.pose_landmarks.landmark) for coord in [\"x\", \"y\"]}\n",
    "    PoseData.append(newData)\n",
    "    # print('first three landmarks', newData)\n",
    "    # PoseData.append({str(j)+str(key):value  for j, lm in enumerate(results.pose_landmarks.landmark) for key, value in lm.items()})\n",
    "    # print(\"X value:\", len(results.pose_landmarks.landmark))\n",
    "    # print(\"Y value:\", results.pose_landmarks.landmark[1].y)\n",
    "    # print(\"Z value:\", results.pose_landmarks.landmark[1].z)\n",
    "    # print(\"Visibility value:\", results.pose_landmarks.landmark[1].visibility)\n",
    "\n",
    "    \n",
    "\n",
    "    # send value via OSC\n",
    "    # client.send_message(\"/pose/landmark/1\", [results.pose_landmarks.landmark[1].x, results.pose_landmarks.landmark[1].y, results.pose_landmarks.landmark[1].z])\n",
    "    # client.send_message(\"/pose/landmark/2\", [results.pose_landmarks.landmark[2].x, results.pose_landmarks.landmark[2].y, results.pose_landmarks.landmark[2].z])\n",
    "    # client.send_message(\"test\", [rpll[1].z, rpll[1].z, rpll[1].z])\n",
    "    #client.send_message(\"/pose/landmark/1\", [results.pose_landmarks.landmark[1].x])\n",
    "\n",
    "    # PoseData.append({four.})\n",
    "    \n",
    "\n",
    "    # Flip the image horizontally for a selfie-view display.\n",
    "    cv2.imshow('MediaPipe Pose', cv2.flip(image, 1))\n",
    "    if (cv2.waitKey(5) & 0xFF == 27) or i>MaxRecordings :\n",
    "      break\n",
    "cap.release()\n",
    "df = pd.DataFrame(PoseData)\n",
    "df.to_csv(os.path.join(\"..\",\"data\", imageName + \".csv\"))"
   ]
  },
  {
   "cell_type": "code",
   "execution_count": 36,
   "metadata": {},
   "outputs": [],
   "source": [
    "cap.release()"
   ]
  },
  {
   "cell_type": "code",
   "execution_count": null,
   "metadata": {},
   "outputs": [],
   "source": []
  }
 ],
 "metadata": {
  "kernelspec": {
   "display_name": "Python 3.8.10 ('.venv': venv)",
   "language": "python",
   "name": "python3"
  },
  "language_info": {
   "codemirror_mode": {
    "name": "ipython",
    "version": 3
   },
   "file_extension": ".py",
   "mimetype": "text/x-python",
   "name": "python",
   "nbconvert_exporter": "python",
   "pygments_lexer": "ipython3",
   "version": "3.8.10"
  },
  "orig_nbformat": 4,
  "vscode": {
   "interpreter": {
    "hash": "5232aae36e8705d7fd9599d01bfceaf619d9806582d70f55f6f83c62f1ed400f"
   }
  }
 },
 "nbformat": 4,
 "nbformat_minor": 2
}

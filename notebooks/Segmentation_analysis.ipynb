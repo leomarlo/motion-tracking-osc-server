{
 "cells": [
  {
   "cell_type": "markdown",
   "metadata": {},
   "source": [
    "## Segementation analysis"
   ]
  },
  {
   "cell_type": "code",
   "execution_count": 2,
   "metadata": {},
   "outputs": [
    {
     "name": "stdout",
     "output_type": "stream",
     "text": [
      "/home/leonhard/Projects/AtlasOfSmoothSpaces/GestureLab/MpHandsRtclear/notebooks\n"
     ]
    }
   ],
   "source": [
    "import sys, os\n",
    "cwd = os.getcwd()\n",
    "print(cwd)\n",
    "sys.path.insert(0, os.path.join(cwd, '..'))"
   ]
  },
  {
   "cell_type": "code",
   "execution_count": 3,
   "metadata": {},
   "outputs": [],
   "source": [
    "from sklearn.mixture import GaussianMixture\n",
    "import scipy\n",
    "from segmentation import segmentation as sg "
   ]
  },
  {
   "cell_type": "code",
   "execution_count": 3,
   "metadata": {},
   "outputs": [],
   "source": [
    "fileName = \"MariaMovementSequence_xyz_27Sept\"\n",
    "Annotations = {\n",
    "    \"hip_joint_right\": [\n",
    "        {\"from\": \"00:05:12\", \"till\": \"00:07:11\"},\n",
    "        {\"from\": \"00:44:03\", \"till\": \"00:46:03\"}],\n",
    "    \"elbow_hinge_left\": [\n",
    "        {\"from\": \"00:07:14\", \"till\":\"00:11:07\"},\n",
    "        {\"from\": \"00:46:03\", \"till\":\"00:48:06\"}],\n",
    "    \"pivot_right\":[{\"from\": \"00:48:07\", \"till\": \"00:49:13\"}],\n",
    "    \"pivot_left\":[{\"from\": \"00:50:04\", \"till\": \"00:52:03\"}],\n",
    "    \"rotation_shoulder_left\": [{\"from\": \"00:11:08\" , \"till\":\"00:14:02\"}],\n",
    "    \"thumb_movement_left\": [{\"from\": \"00:14:03\", \"till\": \"00:18:10\"}],\n",
    "    \"knee_hinge_right\":[{\"from\":\"00:18:11\", \"till\": \"00:21:01\"}]\n",
    "}"
   ]
  },
  {
   "cell_type": "code",
   "execution_count": 4,
   "metadata": {},
   "outputs": [
    {
     "name": "stdout",
     "output_type": "stream",
     "text": [
      "--> Dataframe has been loaded into df object.\n",
      "--> Landmarks have been recentered around the nose and rescaled by the distance between the eyes.\n",
      "--> Data has been generated from annotations.\n",
      "--> Data has been turned into one large array.\n"
     ]
    }
   ],
   "source": [
    "## Load dataframe from file\n",
    "df = sg.loadData(fileName=fileName, fps=15)\n",
    "print('--> Dataframe has been loaded into df object.')\n",
    "## rescale entries\n",
    "df_rescaled = sg.rescaleDf(df)\n",
    "print('--> Landmarks have been recentered around the nose and rescaled by the distance between the eyes.')\n",
    "# ## get datapoints from annotations\n",
    "result = sg.generateDataFromAnnotation(df=df_rescaled, anno=Annotations, batch_size=3, asDict=True)\n",
    "print('--> Data has been generated from annotations.')\n",
    "resultAsArray = sg.turnDictDataIntoArray(result)\n",
    "print('--> Data has been turned into one large array.')"
   ]
  },
  {
   "cell_type": "code",
   "execution_count": 5,
   "metadata": {},
   "outputs": [],
   "source": [
    "gmm = GaussianMixture(n_components=len(Annotations.keys()), random_state=0).fit(resultAsArray)"
   ]
  },
  {
   "cell_type": "code",
   "execution_count": 12,
   "metadata": {},
   "outputs": [],
   "source": [
    "probs = gmm.predict_proba(resultAsArray)"
   ]
  },
  {
   "cell_type": "code",
   "execution_count": 14,
   "metadata": {},
   "outputs": [
    {
     "data": {
      "text/plain": [
       "0.0"
      ]
     },
     "execution_count": 14,
     "metadata": {},
     "output_type": "execute_result"
    }
   ],
   "source": [
    "entropies = [scipy.stats.entropy(p) for p in probs]\n",
    "max(entropies)"
   ]
  }
 ],
 "metadata": {
  "kernelspec": {
   "display_name": "Python 3.8.10 ('.venv': venv)",
   "language": "python",
   "name": "python3"
  },
  "language_info": {
   "codemirror_mode": {
    "name": "ipython",
    "version": 3
   },
   "file_extension": ".py",
   "mimetype": "text/x-python",
   "name": "python",
   "nbconvert_exporter": "python",
   "pygments_lexer": "ipython3",
   "version": "3.8.10"
  },
  "orig_nbformat": 4,
  "vscode": {
   "interpreter": {
    "hash": "5232aae36e8705d7fd9599d01bfceaf619d9806582d70f55f6f83c62f1ed400f"
   }
  }
 },
 "nbformat": 4,
 "nbformat_minor": 2
}

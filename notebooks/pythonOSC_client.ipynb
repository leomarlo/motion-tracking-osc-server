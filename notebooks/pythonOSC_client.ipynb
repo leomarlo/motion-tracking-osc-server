{
 "cells": [
  {
   "cell_type": "markdown",
   "metadata": {},
   "source": [
    "Following the instructions from: https://pypi.org/project/python-osc/\n",
    "\n",
    "You will need to set the right port (check out the MobMuPlat settings) and leave the IP to listen to localhost (127.0.0.1).\n",
    "\n",
    "On the smartphone side though, you need to set the right  Broadcast IP address, which you can figure out using the terminal command:\n",
    "\n",
    "`ipconfig getifaddr en1` \n",
    "\n",
    "which in my case now yields:\n",
    "\n",
    "`10.0.0.119`\n",
    "\n",
    "And chech wht the **Output port** is:\n",
    "\n",
    "`53535`"
   ]
  },
  {
   "cell_type": "code",
   "execution_count": 1,
   "metadata": {},
   "outputs": [],
   "source": [
    "\"\"\"Small example OSC client\n",
    "\n",
    "This program sends 10 random values between 0.0 and 1.0 to the /filter address,\n",
    "waiting for 1 seconds between each value.\n",
    "\"\"\"\n",
    "import argparse\n",
    "import random\n",
    "import time\n",
    "\n",
    "from pythonosc import udp_client\n",
    "\n",
    "class args:\n",
    "  ip = '192.168.2.57'\n",
    "  port = 9998\n",
    "\n",
    "# if __name__ == \"__main__\":\n",
    "client = udp_client.SimpleUDPClient(args.ip, args.port)\n",
    "\n",
    "  # for x in range(10):\n",
    "  #   client.send_message(\"/filter\", random.random())\n",
    "  #   time.sleep(1)"
   ]
  },
  {
   "cell_type": "code",
   "execution_count": 4,
   "metadata": {},
   "outputs": [
    {
     "data": {
      "text/plain": [
       "'192.168.2.57'"
      ]
     },
     "execution_count": 4,
     "metadata": {},
     "output_type": "execute_result"
    }
   ],
   "source": [
    "client._address"
   ]
  },
  {
   "cell_type": "code",
   "execution_count": null,
   "metadata": {},
   "outputs": [],
   "source": []
  }
 ],
 "metadata": {
  "kernelspec": {
   "display_name": "Python 3.8.10 ('.venv': venv)",
   "language": "python",
   "name": "python3"
  },
  "language_info": {
   "codemirror_mode": {
    "name": "ipython",
    "version": 3
   },
   "file_extension": ".py",
   "mimetype": "text/x-python",
   "name": "python",
   "nbconvert_exporter": "python",
   "pygments_lexer": "ipython3",
   "version": "3.8.10"
  },
  "orig_nbformat": 4,
  "vscode": {
   "interpreter": {
    "hash": "5232aae36e8705d7fd9599d01bfceaf619d9806582d70f55f6f83c62f1ed400f"
   }
  }
 },
 "nbformat": 4,
 "nbformat_minor": 2
}

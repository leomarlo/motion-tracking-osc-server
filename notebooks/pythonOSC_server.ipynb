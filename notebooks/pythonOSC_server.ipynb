{
 "cells": [
  {
   "cell_type": "markdown",
   "metadata": {},
   "source": [
    "Following the instructions from: https://pypi.org/project/python-osc/\n",
    "\n",
    "You will need to set the right port (check out the MobMuPlat settings) and leave the IP to listen to localhost (127.0.0.1).\n",
    "\n",
    "On the smartphone side though, you need to set the right  Broadcast IP address, which you can figure out using the terminal command:\n",
    "\n",
    "`ipconfig getifaddr en1` \n",
    "\n",
    "which in my case now yields:\n",
    "\n",
    "`10.0.0.119`\n",
    "\n",
    "And chech wht the **Output port** is:\n",
    "\n",
    "`53535`"
   ]
  },
  {
   "cell_type": "code",
   "execution_count": 8,
   "metadata": {},
   "outputs": [
    {
     "name": "stdout",
     "output_type": "stream",
     "text": [
      "hallo\n"
     ]
    },
    {
     "name": "stderr",
     "output_type": "stream",
     "text": [
      "usage: ipykernel_launcher.py [-h] [--ip IP] [--port PORT]\n",
      "ipykernel_launcher.py: error: unrecognized arguments: --stdin=9003 --control=9001 --hb=9000 --Session.signature_scheme=\"hmac-sha256\" --Session.key=b\"fa42ca3b-ab7b-4a26-af3d-16b0929a48c8\" --shell=9002 --transport=\"tcp\" --iopub=9004 --f=/home/leonhard/.local/share/jupyter/runtime/kernel-v2-12372QD65kvgUtzon.json\n"
     ]
    },
    {
     "ename": "SystemExit",
     "evalue": "2",
     "output_type": "error",
     "traceback": [
      "An exception has occurred, use %tb to see the full traceback.\n",
      "\u001b[0;31mSystemExit\u001b[0m\u001b[0;31m:\u001b[0m 2\n"
     ]
    },
    {
     "name": "stderr",
     "output_type": "stream",
     "text": [
      "/home/leonhard/Projects/AtlasOfSmoothSpaces/GestureLab/MpHandsRtclear/.venv/lib/python3.8/site-packages/IPython/core/interactiveshell.py:3386: UserWarning: To exit: use 'exit', 'quit', or Ctrl-D.\n",
      "  warn(\"To exit: use 'exit', 'quit', or Ctrl-D.\", stacklevel=1)\n"
     ]
    }
   ],
   "source": [
    "\"\"\"Small example OSC server\n",
    "\n",
    "This program listens to several addresses, and prints some information about\n",
    "received packets.\n",
    "\"\"\"\n",
    "import argparse\n",
    "import math\n",
    "import time\n",
    "\n",
    "from pythonosc import dispatcher\n",
    "from pythonosc import osc_server\n",
    "\n",
    "def print_volume_handler(unused_addr, args, volume):\n",
    "  print(\"[{0}] ~ {1}\".format(args[0], volume))\n",
    "\n",
    "def print_compute_handler(unused_addr, args, volume):\n",
    "  try:\n",
    "    print(\"[{0}] ~ {1}\".format(args[0], args[1](volume)))\n",
    "  except ValueError: pass\n",
    "\n",
    "if __name__ == \"__main__\":\n",
    "  print('hallo')\n",
    "  parser = argparse.ArgumentParser()\n",
    "  parser.add_argument(\"--ip\",\n",
    "      default=\"127.0.0.1\", help=\"The ip to listen on\")\n",
    "  parser.add_argument(\"--port\",\n",
    "      type=int, default=9999, help=\"The port to listen on\")\n",
    "  args = parser.parse_args()\n",
    "\n",
    "  dispatcher = dispatcher.Dispatcher()\n",
    "  dispatcher.map(\"/filter\", print)\n",
    "  dispatcher.map(\"/volume\", print_volume_handler, \"Volume\")\n",
    "  dispatcher.map(\"/logvolume\", print_compute_handler, \"Log volume\", math.log)\n",
    "\n",
    "  \n",
    "  with osc_server.ThreadingOSCUDPServer(\n",
    "      (args.ip, args.port), dispatcher) as server:\n",
    "\n",
    "    print(\"Serving on {}\".format(server.server_address))\n",
    "    server.serve_forever()\n"
   ]
  },
  {
   "cell_type": "code",
   "execution_count": 9,
   "metadata": {},
   "outputs": [
    {
     "name": "stderr",
     "output_type": "stream",
     "text": [
      "usage: ipykernel_launcher.py [-h] [--sum] N [N ...]\n",
      "ipykernel_launcher.py: error: the following arguments are required: N\n"
     ]
    },
    {
     "ename": "SystemExit",
     "evalue": "2",
     "output_type": "error",
     "traceback": [
      "An exception has occurred, use %tb to see the full traceback.\n",
      "\u001b[0;31mSystemExit\u001b[0m\u001b[0;31m:\u001b[0m 2\n"
     ]
    }
   ],
   "source": [
    "parser = argparse.ArgumentParser(description='Process some integers.')\n",
    "parser.add_argument('integers', metavar='N', type=int, nargs='+',\n",
    "                    help='an integer for the accumulator')\n",
    "parser.add_argument('--sum', dest='accumulate', action='store_const',\n",
    "                    const=sum, default=max,\n",
    "                    help='sum the integers (default: find the max)')\n",
    "\n",
    "args = parser.parse_args()\n",
    "print(args.accumulate(args.integers))"
   ]
  },
  {
   "cell_type": "code",
   "execution_count": null,
   "metadata": {},
   "outputs": [],
   "source": []
  }
 ],
 "metadata": {
  "kernelspec": {
   "display_name": "Python 3.8.10 ('.venv': venv)",
   "language": "python",
   "name": "python3"
  },
  "language_info": {
   "codemirror_mode": {
    "name": "ipython",
    "version": 3
   },
   "file_extension": ".py",
   "mimetype": "text/x-python",
   "name": "python",
   "nbconvert_exporter": "python",
   "pygments_lexer": "ipython3",
   "version": "3.8.10"
  },
  "orig_nbformat": 4,
  "vscode": {
   "interpreter": {
    "hash": "5232aae36e8705d7fd9599d01bfceaf619d9806582d70f55f6f83c62f1ed400f"
   }
  }
 },
 "nbformat": 4,
 "nbformat_minor": 2
}

{
 "cells": [
  {
   "cell_type": "markdown",
   "metadata": {},
   "source": [
    "Following the instructions from: https://pypi.org/project/python-osc/\n",
    "\n",
    "You will need to set the right port (check out the MobMuPlat settings) and leave the IP to listen to localhost (127.0.0.1).\n",
    "\n",
    "On the smartphone side though, you need to set the right  Broadcast IP address, which you can figure out using the terminal command:\n",
    "\n",
    "`ipconfig getifaddr en1` \n",
    "\n",
    "which in my case now yields:\n",
    "\n",
    "`10.0.0.119`\n",
    "\n",
    "And chech wht the **Output port** is:\n",
    "\n",
    "`53535`"
   ]
  },
  {
   "cell_type": "code",
   "execution_count": 1,
   "metadata": {},
   "outputs": [
    {
     "name": "stderr",
     "output_type": "stream",
     "text": [
      "usage: ipykernel_launcher.py [-h] [--ip IP] [--port PORT]\n",
      "ipykernel_launcher.py: error: unrecognized arguments: --stdin=9018 --control=9016 --hb=9015 --Session.signature_scheme=\"hmac-sha256\" --Session.key=b\"30c6e5bd-b3fb-4d8e-8218-2de5abee154b\" --shell=9017 --transport=\"tcp\" --iopub=9019 --f=/Users/artacho/Library/Jupyter/runtime/kernel-v2-52151bKwdbKRvS6D.json\n"
     ]
    },
    {
     "ename": "SystemExit",
     "evalue": "2",
     "output_type": "error",
     "traceback": [
      "An exception has occurred, use %tb to see the full traceback.\n",
      "\u001b[0;31mSystemExit\u001b[0m\u001b[0;31m:\u001b[0m 2\n"
     ]
    },
    {
     "name": "stderr",
     "output_type": "stream",
     "text": [
      "/Users/artacho/Documents/Max 8/Projects/[Atlas]/mp_hands_rt/.venv/lib/python3.7/site-packages/IPython/core/interactiveshell.py:3561: UserWarning: To exit: use 'exit', 'quit', or Ctrl-D.\n",
      "  warn(\"To exit: use 'exit', 'quit', or Ctrl-D.\", stacklevel=1)\n"
     ]
    }
   ],
   "source": [
    "\"\"\"Small example OSC client\n",
    "\n",
    "This program sends 10 random values between 0.0 and 1.0 to the /filter address,\n",
    "waiting for 1 seconds between each value.\n",
    "\"\"\"\n",
    "import argparse\n",
    "import random\n",
    "import time\n",
    "\n",
    "from pythonosc import udp_client\n",
    "\n",
    "\n",
    "if __name__ == \"__main__\":\n",
    "  parser = argparse.ArgumentParser()\n",
    "  parser.add_argument(\"--ip\", default=\"127.0.0.1\",\n",
    "      help=\"The ip of the OSC server\")\n",
    "  parser.add_argument(\"--port\", type=int, default=5005,\n",
    "      help=\"The port the OSC server is listening on\")\n",
    "  args = parser.parse_args()\n",
    "\n",
    "  client = udp_client.SimpleUDPClient(args.ip, args.port)\n",
    "\n",
    "  for x in range(10):\n",
    "    client.send_message(\"/filter\", random.random())\n",
    "    time.sleep(1)"
   ]
  }
 ],
 "metadata": {
  "kernelspec": {
   "display_name": "Python 3.7.0 ('.venv': venv)",
   "language": "python",
   "name": "python3"
  },
  "language_info": {
   "codemirror_mode": {
    "name": "ipython",
    "version": 3
   },
   "file_extension": ".py",
   "mimetype": "text/x-python",
   "name": "python",
   "nbconvert_exporter": "python",
   "pygments_lexer": "ipython3",
   "version": "3.7.0"
  },
  "orig_nbformat": 4,
  "vscode": {
   "interpreter": {
    "hash": "b07ac571b759c2ef371240277015aef0ebe274439bd038c3ecce4c9f55f8bf50"
   }
  }
 },
 "nbformat": 4,
 "nbformat_minor": 2
}

{
 "cells": [
  {
   "cell_type": "markdown",
   "metadata": {},
   "source": [
    "Following the instructions from: https://pypi.org/project/python-osc/\n",
    "\n",
    "You will need to set the right port (check out the MobMuPlat settings) and leave the IP to listen to localhost (127.0.0.1).\n",
    "\n",
    "On the smartphone side though, you need to set the right  Broadcast IP address, which you can figure out using the terminal command:\n",
    "\n",
    "`ipconfig getifaddr en1` \n",
    "\n",
    "which in my case now yields:\n",
    "\n",
    "`10.0.0.119`\n",
    "\n",
    "And chech wht the **Output port** is:\n",
    "\n",
    "`53535`"
   ]
  },
  {
   "cell_type": "code",
   "execution_count": 5,
   "metadata": {},
   "outputs": [
    {
     "name": "stderr",
     "output_type": "stream",
     "text": [
      "usage: ipykernel_launcher.py [-h] [--ip IP] [--port PORT]\n",
      "ipykernel_launcher.py: error: unrecognized arguments: --stdin=9013 --control=9011 --hb=9010 --Session.signature_scheme=\"hmac-sha256\" --Session.key=b\"27090541-1d0e-4113-a5b6-517a60cbfd53\" --shell=9012 --transport=\"tcp\" --iopub=9014 --f=/Users/artacho/Library/Jupyter/runtime/kernel-v2-5215Rt3kFxCryejB.json\n"
     ]
    },
    {
     "ename": "SystemExit",
     "evalue": "2",
     "output_type": "error",
     "traceback": [
      "An exception has occurred, use %tb to see the full traceback.\n",
      "\u001b[0;31mSystemExit\u001b[0m\u001b[0;31m:\u001b[0m 2\n"
     ]
    },
    {
     "name": "stderr",
     "output_type": "stream",
     "text": [
      "/Users/artacho/Documents/Max 8/Projects/[Atlas]/mp_hands_rt/.venv/lib/python3.7/site-packages/IPython/core/interactiveshell.py:3561: UserWarning: To exit: use 'exit', 'quit', or Ctrl-D.\n",
      "  warn(\"To exit: use 'exit', 'quit', or Ctrl-D.\", stacklevel=1)\n"
     ]
    }
   ],
   "source": [
    "\"\"\"Small example OSC server\n",
    "\n",
    "This program listens to several addresses, and prints some information about\n",
    "received packets.\n",
    "\"\"\"\n",
    "import argparse\n",
    "import math\n",
    "\n",
    "from pythonosc import dispatcher\n",
    "from pythonosc import osc_server\n",
    "\n",
    "def print_volume_handler(unused_addr, args, volume):\n",
    "  print(\"[{0}] ~ {1}\".format(args[0], volume))\n",
    "\n",
    "def print_compute_handler(unused_addr, args, volume):\n",
    "  try:\n",
    "    print(\"[{0}] ~ {1}\".format(args[0], args[1](volume)))\n",
    "  except ValueError: pass\n",
    "\n",
    "if __name__ == \"__main__\":\n",
    "  parser = argparse.ArgumentParser()\n",
    "  parser.add_argument(\"--ip\",\n",
    "      default=\"127.0.0.1\", help=\"The ip to listen on\")\n",
    "  parser.add_argument(\"--port\",\n",
    "      type=int, default=53535, help=\"The port to listen on\")\n",
    "  args = parser.parse_args()\n",
    "\n",
    "  dispatcher = dispatcher.Dispatcher()\n",
    "  dispatcher.map(\"/filter\", print)\n",
    "  dispatcher.map(\"/volume\", print_volume_handler, \"Volume\")\n",
    "  dispatcher.map(\"/logvolume\", print_compute_handler, \"Log volume\", math.log)\n",
    "\n",
    "  server = osc_server.ThreadingOSCUDPServer(\n",
    "      (args.ip, args.port), dispatcher)\n",
    "  print(\"Serving on {}\".format(server.server_address))\n",
    "  server.serve_forever()"
   ]
  }
 ],
 "metadata": {
  "kernelspec": {
   "display_name": "Python 3.7.0 ('.venv': venv)",
   "language": "python",
   "name": "python3"
  },
  "language_info": {
   "codemirror_mode": {
    "name": "ipython",
    "version": 3
   },
   "file_extension": ".py",
   "mimetype": "text/x-python",
   "name": "python",
   "nbconvert_exporter": "python",
   "pygments_lexer": "ipython3",
   "version": "3.7.0"
  },
  "orig_nbformat": 4,
  "vscode": {
   "interpreter": {
    "hash": "b07ac571b759c2ef371240277015aef0ebe274439bd038c3ecce4c9f55f8bf50"
   }
  }
 },
 "nbformat": 4,
 "nbformat_minor": 2
}

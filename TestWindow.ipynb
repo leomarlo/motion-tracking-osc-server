{
 "cells": [
  {
   "cell_type": "code",
   "execution_count": 7,
   "metadata": {},
   "outputs": [],
   "source": [
    "\n",
    "# Python program to explain cv2.namedWindow() method\n",
    " \n",
    "# Importing OpenCV\n",
    "import cv2\n",
    "import os\n",
    " \n",
    "# Path to image in local directory\n",
    "path = os.path.join(os.getcwd(),'data', 'geth_output_1.png')\n",
    " \n",
    "# Using cv2.imread() to read an image in default mode\n",
    "image = cv2.imread(path)\n",
    " \n",
    "# Using namedWindow()\n",
    "# A window with 'Display' name is created\n",
    "# with WINDOW_AUTOSIZE, window size is set automatically\n",
    "cv2.namedWindow(\"Display\", cv2.WINDOW_AUTOSIZE)\n",
    " \n",
    "# using cv2.imshow() to display the image\n",
    "cv2.imshow('Display', image)\n",
    " \n",
    "# Waiting 0ms for user to press any key\n",
    "cv2.waitKey(0)\n",
    " \n",
    "# Using cv2.destroyAllWindows() to destroy\n",
    "# all created windows open on screen\n",
    "cv2.destroyAllWindows()"
   ]
  },
  {
   "cell_type": "code",
   "execution_count": 6,
   "metadata": {},
   "outputs": [],
   "source": [
    "cv2.destroyWindow(\"Display\")"
   ]
  },
  {
   "cell_type": "code",
   "execution_count": null,
   "metadata": {},
   "outputs": [],
   "source": []
  }
 ],
 "metadata": {
  "kernelspec": {
   "display_name": "Python 3.8.10 ('.venv': venv)",
   "language": "python",
   "name": "python3"
  },
  "language_info": {
   "codemirror_mode": {
    "name": "ipython",
    "version": 3
   },
   "file_extension": ".py",
   "mimetype": "text/x-python",
   "name": "python",
   "nbconvert_exporter": "python",
   "pygments_lexer": "ipython3",
   "version": "3.8.10"
  },
  "orig_nbformat": 4,
  "vscode": {
   "interpreter": {
    "hash": "5232aae36e8705d7fd9599d01bfceaf619d9806582d70f55f6f83c62f1ed400f"
   }
  }
 },
 "nbformat": 4,
 "nbformat_minor": 2
}
